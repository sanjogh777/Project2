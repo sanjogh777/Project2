{
 "cells": [
  {
   "cell_type": "code",
   "execution_count": 2,
   "metadata": {},
   "outputs": [],
   "source": [
    "import pandas as pd\n",
    "import numpy as np\n",
    "import talos as ta\n",
    "%matplotlib inline"
   ]
  },
  {
   "cell_type": "code",
   "execution_count": 3,
   "metadata": {},
   "outputs": [],
   "source": [
    "# Activities are the class labels\n",
    "# It is a 6 class classification\n",
    "ACTIVITIES = {\n",
    "    0: 'WALKING',\n",
    "    1: 'WALKING_UPSTAIRS',\n",
    "    2: 'WALKING_DOWNSTAIRS',\n",
    "    3: 'SITTING',\n",
    "    4: 'STANDING',\n",
    "    5: 'LAYING',\n",
    "}\n",
    "\n",
    "# Utility function to print the confusion matrix\n",
    "def confusion_matrix(Y_true, Y_pred):\n",
    "    Y_true = pd.Series([ACTIVITIES[y] for y in np.argmax(Y_true, axis=1)])\n",
    "    Y_pred = pd.Series([ACTIVITIES[y] for y in np.argmax(Y_pred, axis=1)])\n",
    "\n",
    "    return pd.crosstab(Y_true, Y_pred, rownames=['True'], colnames=['Pred'])"
   ]
  },
  {
   "cell_type": "markdown",
   "metadata": {},
   "source": [
    "### Data"
   ]
  },
  {
   "cell_type": "code",
   "execution_count": 4,
   "metadata": {},
   "outputs": [],
   "source": [
    "# Data directory\n",
    "DATADIR = 'UCI_HAR_Dataset'"
   ]
  },
  {
   "cell_type": "code",
   "execution_count": 5,
   "metadata": {},
   "outputs": [],
   "source": [
    "# Raw data signals\n",
    "# Signals are from Accelerometer and Gyroscope\n",
    "# The signals are in x,y,z directions\n",
    "# Sensor signals are filtered to have only body acceleration\n",
    "# excluding the acceleration due to gravity\n",
    "# Triaxial acceleration from the accelerometer is total acceleration\n",
    "SIGNALS = [\n",
    "    \"body_acc_x\",\n",
    "    \"body_acc_y\",\n",
    "    \"body_acc_z\",\n",
    "    \"body_gyro_x\",\n",
    "    \"body_gyro_y\",\n",
    "    \"body_gyro_z\",\n",
    "    \"total_acc_x\",\n",
    "    \"total_acc_y\",\n",
    "    \"total_acc_z\"\n",
    "]"
   ]
  },
  {
   "cell_type": "code",
   "execution_count": 6,
   "metadata": {},
   "outputs": [],
   "source": [
    "# Utility function to read the data from csv file\n",
    "def _read_csv(filename):\n",
    "    return pd.read_csv(filename, delim_whitespace=True, header=None)\n",
    "\n",
    "# Utility function to load the load\n",
    "def load_signals(subset):\n",
    "    signals_data = []\n",
    "\n",
    "    for signal in SIGNALS:\n",
    "        filename = f'UCI_HAR_Dataset/{subset}/Inertial Signals/{signal}_{subset}.txt'\n",
    "        signals_data.append(\n",
    "            _read_csv(filename).as_matrix()\n",
    "        ) \n",
    "\n",
    "    # Transpose is used to change the dimensionality of the output,\n",
    "    # aggregating the signals by combination of sample/timestep.\n",
    "    # Resultant shape is (7352 train/2947 test samples, 128 timesteps, 9 signals)\n",
    "    return np.transpose(signals_data, (1, 2, 0))"
   ]
  },
  {
   "cell_type": "code",
   "execution_count": 7,
   "metadata": {},
   "outputs": [],
   "source": [
    "\n",
    "def load_y(subset):\n",
    "    \"\"\"\n",
    "    The objective that we are trying to predict is an integer, from 1 to 6,\n",
    "    that represents a human activity. We return a binary representation of \n",
    "    every sample objective as a 6 bits vector using One Hot Encoding\n",
    "    \n",
    "    \"\"\"\n",
    "    filename = f'UCI_HAR_Dataset/{subset}/y_{subset}.txt'\n",
    "    y = _read_csv(filename)[0]\n",
    "\n",
    "    return pd.get_dummies(y).as_matrix()"
   ]
  },
  {
   "cell_type": "code",
   "execution_count": 8,
   "metadata": {},
   "outputs": [],
   "source": [
    "def load_data():\n",
    "    \"\"\"\n",
    "    Obtain the dataset from multiple files.\n",
    "    Returns: X_train, X_test, y_train, y_test\n",
    "    \"\"\"\n",
    "    X_train, X_test = load_signals('train'), load_signals('test')\n",
    "    y_train, y_test = load_y('train'), load_y('test')\n",
    "\n",
    "    return X_train, X_test, y_train, y_test"
   ]
  },
  {
   "cell_type": "code",
   "execution_count": 9,
   "metadata": {},
   "outputs": [],
   "source": [
    "# Importing tensorflow\n",
    "np.random.seed(42)\n",
    "import tensorflow as tf\n",
    "tf.set_random_seed(42)"
   ]
  },
  {
   "cell_type": "code",
   "execution_count": 10,
   "metadata": {},
   "outputs": [],
   "source": [
    "# Configuring a session\n",
    "session_conf = tf.ConfigProto(\n",
    "    intra_op_parallelism_threads=1,\n",
    "    inter_op_parallelism_threads=1\n",
    ")"
   ]
  },
  {
   "cell_type": "code",
   "execution_count": 11,
   "metadata": {},
   "outputs": [],
   "source": [
    "# Import Keras\n",
    "from keras import backend as K\n",
    "sess = tf.Session(graph=tf.get_default_graph(), config=session_conf)\n",
    "K.set_session(sess)"
   ]
  },
  {
   "cell_type": "code",
   "execution_count": 12,
   "metadata": {},
   "outputs": [],
   "source": [
    "# Importing libraries\n",
    "from keras.models import Sequential\n",
    "from keras.layers import LSTM\n",
    "from keras.layers.core import Dense, Dropout"
   ]
  },
  {
   "cell_type": "code",
   "execution_count": 13,
   "metadata": {},
   "outputs": [],
   "source": [
    "# Initializing parameters\n",
    "epochs = 30\n",
    "batch_size = 16\n",
    "n_hidden = 32"
   ]
  },
  {
   "cell_type": "code",
   "execution_count": 14,
   "metadata": {},
   "outputs": [],
   "source": [
    "# Utility function to count the number of classes\n",
    "def _count_classes(y):\n",
    "    return len(set([tuple(category) for category in y]))"
   ]
  },
  {
   "cell_type": "code",
   "execution_count": 15,
   "metadata": {},
   "outputs": [],
   "source": [
    "# Loading the train and test data\n",
    "X_train, X_test, Y_train, Y_test = load_data()"
   ]
  },
  {
   "cell_type": "code",
   "execution_count": 16,
   "metadata": {},
   "outputs": [
    {
     "name": "stdout",
     "output_type": "stream",
     "text": [
      "128\n",
      "9\n",
      "7352\n"
     ]
    }
   ],
   "source": [
    "timesteps = len(X_train[0])\n",
    "input_dim = len(X_train[0][0])\n",
    "n_classes = _count_classes(Y_train)\n",
    "\n",
    "print(timesteps)\n",
    "print(input_dim)\n",
    "print(len(X_train))"
   ]
  },
  {
   "cell_type": "code",
   "execution_count": 17,
   "metadata": {},
   "outputs": [
    {
     "data": {
      "text/plain": [
       "talos.commands.evaluate.Evaluate"
      ]
     },
     "execution_count": 17,
     "metadata": {},
     "output_type": "execute_result"
    }
   ],
   "source": []
  },
  {
   "cell_type": "code",
   "execution_count": null,
   "metadata": {},
   "outputs": [],
   "source": [
    "- Defining the Architecture of LSTM"
   ]
  },
  {
   "cell_type": "code",
   "execution_count": 17,
   "metadata": {},
   "outputs": [
    {
     "name": "stdout",
     "output_type": "stream",
     "text": [
      "_________________________________________________________________\n",
      "Layer (type)                 Output Shape              Param #   \n",
      "=================================================================\n",
      "lstm_1 (LSTM)                (None, 32)                5376      \n",
      "_________________________________________________________________\n",
      "dropout_1 (Dropout)          (None, 32)                0         \n",
      "_________________________________________________________________\n",
      "dense_1 (Dense)              (None, 6)                 198       \n",
      "=================================================================\n",
      "Total params: 5,574\n",
      "Trainable params: 5,574\n",
      "Non-trainable params: 0\n",
      "_________________________________________________________________\n"
     ]
    }
   ],
   "source": [
    "# Initiliazing the sequential model\n",
    "model = Sequential()\n",
    "# Configuring the parameters\n",
    "model.add(LSTM(n_hidden, input_shape=(timesteps, input_dim)))\n",
    "# Adding a dropout layer\n",
    "model.add(Dropout(0.5))\n",
    "# Adding a dense output layer with sigmoid activation\n",
    "model.add(Dense(n_classes, activation='sigmoid'))\n",
    "model.summary()"
   ]
  },
  {
   "cell_type": "code",
   "execution_count": 18,
   "metadata": {},
   "outputs": [],
   "source": [
    "# Compiling the model\n",
    "model.compile(loss='categorical_crossentropy',\n",
    "              optimizer='rmsprop',\n",
    "              metrics=['accuracy'])"
   ]
  },
  {
   "cell_type": "code",
   "execution_count": 19,
   "metadata": {},
   "outputs": [
    {
     "name": "stdout",
     "output_type": "stream",
     "text": [
      "Train on 7352 samples, validate on 2947 samples\n",
      "Epoch 1/30\n",
      "7352/7352 [==============================] - 86s 12ms/step - loss: 1.3140 - acc: 0.4433 - val_loss: 1.1384 - val_acc: 0.4978\n",
      "Epoch 2/30\n",
      "7352/7352 [==============================] - 85s 12ms/step - loss: 0.9708 - acc: 0.5739 - val_loss: 0.9381 - val_acc: 0.5935\n",
      "Epoch 3/30\n",
      "7352/7352 [==============================] - 87s 12ms/step - loss: 0.8110 - acc: 0.6341 - val_loss: 0.8356 - val_acc: 0.6057\n",
      "Epoch 4/30\n",
      "7352/7352 [==============================] - 96s 13ms/step - loss: 0.7385 - acc: 0.6506 - val_loss: 0.8168 - val_acc: 0.6026\n",
      "Epoch 5/30\n",
      "7352/7352 [==============================] - 86s 12ms/step - loss: 0.6812 - acc: 0.6595 - val_loss: 0.8233 - val_acc: 0.6155\n",
      "Epoch 6/30\n",
      "7352/7352 [==============================] - 87s 12ms/step - loss: 0.6763 - acc: 0.6544 - val_loss: 0.8089 - val_acc: 0.6067\n",
      "Epoch 7/30\n",
      "7352/7352 [==============================] - 88s 12ms/step - loss: 0.7477 - acc: 0.6527 - val_loss: 0.7679 - val_acc: 0.6179\n",
      "Epoch 8/30\n",
      "7352/7352 [==============================] - 89s 12ms/step - loss: 0.6348 - acc: 0.6772 - val_loss: 0.8497 - val_acc: 0.6155\n",
      "Epoch 9/30\n",
      "7352/7352 [==============================] - 86s 12ms/step - loss: 0.6234 - acc: 0.6783 - val_loss: 0.7722 - val_acc: 0.6257\n",
      "Epoch 10/30\n",
      "7352/7352 [==============================] - 90s 12ms/step - loss: 0.5757 - acc: 0.7112 - val_loss: 0.6751 - val_acc: 0.6770\n",
      "Epoch 11/30\n",
      "7352/7352 [==============================] - 87s 12ms/step - loss: 0.5353 - acc: 0.7448 - val_loss: 0.6122 - val_acc: 0.7340\n",
      "Epoch 12/30\n",
      "7352/7352 [==============================] - 89s 12ms/step - loss: 0.4689 - acc: 0.7938 - val_loss: 0.5255 - val_acc: 0.7465\n",
      "Epoch 13/30\n",
      "7352/7352 [==============================] - 86s 12ms/step - loss: 0.4438 - acc: 0.8116 - val_loss: 0.4650 - val_acc: 0.8022\n",
      "Epoch 14/30\n",
      "7352/7352 [==============================] - 96s 13ms/step - loss: 0.3961 - acc: 0.8640 - val_loss: 0.4326 - val_acc: 0.8884\n",
      "Epoch 15/30\n",
      "7352/7352 [==============================] - 87s 12ms/step - loss: 0.3040 - acc: 0.9147 - val_loss: 0.4220 - val_acc: 0.8768\n",
      "Epoch 16/30\n",
      "7352/7352 [==============================] - 85s 12ms/step - loss: 0.2390 - acc: 0.9285 - val_loss: 0.4195 - val_acc: 0.8636\n",
      "Epoch 17/30\n",
      "7352/7352 [==============================] - 87s 12ms/step - loss: 0.2282 - acc: 0.9328 - val_loss: 0.3295 - val_acc: 0.8853\n",
      "Epoch 18/30\n",
      "7352/7352 [==============================] - 86s 12ms/step - loss: 0.2167 - acc: 0.9355 - val_loss: 0.4301 - val_acc: 0.8731\n",
      "Epoch 19/30\n",
      "7352/7352 [==============================] - 86s 12ms/step - loss: 0.2046 - acc: 0.9353 - val_loss: 0.5197 - val_acc: 0.8738\n",
      "Epoch 20/30\n",
      "7352/7352 [==============================] - 91s 12ms/step - loss: 0.1868 - acc: 0.9392 - val_loss: 0.4914 - val_acc: 0.8860\n",
      "Epoch 21/30\n",
      "7352/7352 [==============================] - 88s 12ms/step - loss: 0.2162 - acc: 0.9328 - val_loss: 0.5857 - val_acc: 0.8239\n",
      "Epoch 22/30\n",
      "7352/7352 [==============================] - 86s 12ms/step - loss: 0.2506 - acc: 0.9302 - val_loss: 0.7111 - val_acc: 0.8314\n",
      "Epoch 23/30\n",
      "7352/7352 [==============================] - 93s 13ms/step - loss: 0.2050 - acc: 0.9380 - val_loss: 0.3921 - val_acc: 0.8802\n",
      "Epoch 24/30\n",
      "7352/7352 [==============================] - 109s 15ms/step - loss: 0.1782 - acc: 0.9407 - val_loss: 0.4061 - val_acc: 0.8907\n",
      "Epoch 25/30\n",
      "7352/7352 [==============================] - 103s 14ms/step - loss: 0.1875 - acc: 0.9446 - val_loss: 0.4288 - val_acc: 0.8958\n",
      "Epoch 26/30\n",
      "7352/7352 [==============================] - 99s 13ms/step - loss: 0.1896 - acc: 0.9400 - val_loss: 0.2917 - val_acc: 0.9077\n",
      "Epoch 27/30\n",
      "7352/7352 [==============================] - 92s 13ms/step - loss: 0.1819 - acc: 0.9407 - val_loss: 0.3460 - val_acc: 0.9053\n",
      "Epoch 28/30\n",
      "7352/7352 [==============================] - 90s 12ms/step - loss: 0.2017 - acc: 0.9431 - val_loss: 0.3068 - val_acc: 0.8941\n",
      "Epoch 29/30\n",
      "7352/7352 [==============================] - 89s 12ms/step - loss: 0.1511 - acc: 0.9474 - val_loss: 0.4634 - val_acc: 0.8935\n",
      "Epoch 30/30\n",
      "7352/7352 [==============================] - 89s 12ms/step - loss: 0.1716 - acc: 0.9414 - val_loss: 0.4986 - val_acc: 0.8928\n"
     ]
    },
    {
     "data": {
      "text/plain": [
       "<keras.callbacks.History at 0x18b923fd080>"
      ]
     },
     "execution_count": 19,
     "metadata": {},
     "output_type": "execute_result"
    }
   ],
   "source": [
    "# Training the model\n",
    "model.fit(X_train,\n",
    "          Y_train,\n",
    "          batch_size=batch_size,\n",
    "          validation_data=(X_test, Y_test),\n",
    "          epochs=epochs)"
   ]
  },
  {
   "cell_type": "code",
   "execution_count": 28,
   "metadata": {},
   "outputs": [],
   "source": [
    "from keras.models import load_model\n",
    "# Creates a HDF5 file 'my_model.h5'\n",
    "# model.save('my_model.h5')"
   ]
  },
  {
   "cell_type": "code",
   "execution_count": 20,
   "metadata": {},
   "outputs": [
    {
     "name": "stdout",
     "output_type": "stream",
     "text": [
      "Pred                LAYING  SITTING  STANDING  WALKING  WALKING_DOWNSTAIRS  \\\n",
      "True                                                                         \n",
      "LAYING                 510        0        27        0                   0   \n",
      "SITTING                  2      418        69        1                   0   \n",
      "STANDING                 0      130       402        0                   0   \n",
      "WALKING                  0        0         0      468                  27   \n",
      "WALKING_DOWNSTAIRS       0        0         0        1                 416   \n",
      "WALKING_UPSTAIRS         0        0         0       26                  28   \n",
      "\n",
      "Pred                WALKING_UPSTAIRS  \n",
      "True                                  \n",
      "LAYING                             0  \n",
      "SITTING                            1  \n",
      "STANDING                           0  \n",
      "WALKING                            1  \n",
      "WALKING_DOWNSTAIRS                 3  \n",
      "WALKING_UPSTAIRS                 417  \n"
     ]
    }
   ],
   "source": [
    "# Confusion Matrix\n",
    "print(confusion_matrix(Y_test, model.predict(X_test)))"
   ]
  },
  {
   "cell_type": "code",
   "execution_count": 21,
   "metadata": {},
   "outputs": [
    {
     "name": "stdout",
     "output_type": "stream",
     "text": [
      "2947/2947 [==============================] - 4s 1ms/step\n"
     ]
    }
   ],
   "source": [
    "score = model.evaluate(X_test, Y_test)"
   ]
  },
  {
   "cell_type": "code",
   "execution_count": 22,
   "metadata": {},
   "outputs": [
    {
     "data": {
      "text/plain": [
       "[0.49859688477367486, 0.8927723108245673]"
      ]
     },
     "execution_count": 22,
     "metadata": {},
     "output_type": "execute_result"
    }
   ],
   "source": [
    "score"
   ]
  },
  {
   "cell_type": "markdown",
   "metadata": {},
   "source": [
    "- With a simple 2 layer architecture we got approx 90% accuracy and a loss of 0.49.\n",
    "- We can further imporve the performace with Hyperparameter tuning."
   ]
  },
  {
   "cell_type": "code",
   "execution_count": 29,
   "metadata": {},
   "outputs": [],
   "source": [
    "new_model_2 = load_model('my_model.h5')"
   ]
  },
  {
   "cell_type": "code",
   "execution_count": null,
   "metadata": {},
   "outputs": [],
   "source": []
  }
 ],
 "metadata": {
  "anaconda-cloud": {},
  "kernelspec": {
   "display_name": "Python 3",
   "language": "python",
   "name": "python3"
  },
  "language_info": {
   "codemirror_mode": {
    "name": "ipython",
    "version": 3
   },
   "file_extension": ".py",
   "mimetype": "text/x-python",
   "name": "python",
   "nbconvert_exporter": "python",
   "pygments_lexer": "ipython3",
   "version": "3.6.7"
  }
 },
 "nbformat": 4,
 "nbformat_minor": 2
}
